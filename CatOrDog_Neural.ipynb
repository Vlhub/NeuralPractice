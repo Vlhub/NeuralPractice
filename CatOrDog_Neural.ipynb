{
  "nbformat": 4,
  "nbformat_minor": 0,
  "metadata": {
    "colab": {
      "name": "CatOrDog_Neural.ipynb",
      "provenance": [],
      "collapsed_sections": [],
      "authorship_tag": "ABX9TyP1OnKpIdAWB3OUmGBJM/JO"
    },
    "kernelspec": {
      "name": "python3",
      "display_name": "Python 3"
    }
  },
  "cells": [
    {
      "cell_type": "markdown",
      "metadata": {
        "id": "KBymk_RWoZIf",
        "colab_type": "text"
      },
      "source": [
        "Импорт необходимых библиотек\n",
        "\n"
      ]
    },
    {
      "cell_type": "code",
      "metadata": {
        "id": "6NvJ5UBak0YO",
        "colab_type": "code",
        "colab": {}
      },
      "source": [
        "import numpy as np\n",
        "import tensorflow as tf\n",
        "import tensorflow_datasets as tfds\n",
        "from tensorflow.keras.preprocessing.image import load_img, img_to_array\n",
        "from tensorflow.keras.layers import Dense, GlobalAveragePooling2D, Dropout\n",
        "import matplotlib.pyplot as plt\n",
        "from google.colab import files"
      ],
      "execution_count": null,
      "outputs": []
    },
    {
      "cell_type": "markdown",
      "metadata": {
        "id": "i_tot3TKojfJ",
        "colab_type": "text"
      },
      "source": [
        "Запись в массив исходных данных, полученных из публичного датасета"
      ]
    },
    {
      "cell_type": "code",
      "metadata": {
        "id": "rHHdEPzdyvq2",
        "colab_type": "code",
        "colab": {}
      },
      "source": [
        "train = tfds.load(\"cats_vs_dogs\", split=['train[:100%]'], as_supervised=True)"
      ],
      "execution_count": null,
      "outputs": []
    },
    {
      "cell_type": "markdown",
      "metadata": {
        "id": "N78s9Y6por8a",
        "colab_type": "text"
      },
      "source": [
        "Проверка вывода изображения и его метаинформации\n",
        "\n"
      ]
    },
    {
      "cell_type": "code",
      "metadata": {
        "id": "t41oi3Uzmzns",
        "colab_type": "code",
        "colab": {}
      },
      "source": [
        "for img, metavalue in train[0].take(2):\n",
        "  plt.figure()\n",
        "  plt.imshow(img)\n",
        "  print(metavalue)"
      ],
      "execution_count": null,
      "outputs": []
    },
    {
      "cell_type": "markdown",
      "metadata": {
        "id": "8eRDyrqPqbfR",
        "colab_type": "text"
      },
      "source": [
        "Необходимо изменить разрешение картинки, для введения разрешения как константы для нейросети, что исключит возможные ошибки при обучении. Также размер 224х224 является чем-то средним между распознаваемой картинкой и совсем нераспознаваемой, что позволит получить от нейросети определенный результат и при этом сократить время обучения и обработки изображений"
      ]
    },
    {
      "cell_type": "code",
      "metadata": {
        "id": "vEhegQIBorNR",
        "colab_type": "code",
        "colab": {}
      },
      "source": [
        "size = 224 #нейросеть работает именно с разрешением 224х224\n",
        "def image_resizing(img, metavalue):\n",
        "  img = tf.cast(img, tf.float32)\n",
        "  img = tf.image.resize(img, (size, size))\n",
        "  img = img / 255.0 #для введения изображения в пикселях в диапазон от 0 до 1\n",
        "  return img, metavalue"
      ],
      "execution_count": null,
      "outputs": []
    },
    {
      "cell_type": "markdown",
      "metadata": {
        "id": "Pj87hBTxrfCf",
        "colab_type": "text"
      },
      "source": [
        "Применение функции изменения размера к учебному массиву и разбиение тренировочного массива на части, поскольку возможность обработки всего массива с графическими файлами напрямую зависит от системы пользователя  "
      ]
    },
    {
      "cell_type": "code",
      "metadata": {
        "id": "5Nz9IrAMoYVx",
        "colab_type": "code",
        "colab": {}
      },
      "source": [
        "train_resized = train[0].map(image_resizing)\n",
        "train_slices = train_resized.shuffle(1000).batch(16)"
      ],
      "execution_count": null,
      "outputs": []
    },
    {
      "cell_type": "markdown",
      "metadata": {
        "id": "ZCe_CyAwsSUk",
        "colab_type": "text"
      },
      "source": [
        "Импортирование слоевой структуры сверточной  нейросети и отказываемся от ее тренировки, поскольку алгоритм работы ей уже усвоен."
      ]
    },
    {
      "cell_type": "code",
      "metadata": {
        "id": "tqdiSDaDr-Qv",
        "colab_type": "code",
        "colab": {}
      },
      "source": [
        "base_layers = tf.keras.applications.MobileNetV2(input_shape=(size, size, 3), include_top = False)\n",
        "base_layers.trainable = False"
      ],
      "execution_count": null,
      "outputs": []
    },
    {
      "cell_type": "markdown",
      "metadata": {
        "id": "5RwL1l_wuwh3",
        "colab_type": "text"
      },
      "source": [
        "Создание модели"
      ]
    },
    {
      "cell_type": "code",
      "metadata": {
        "id": "gxGdbnZftS8_",
        "colab_type": "code",
        "colab": {}
      },
      "source": [
        "model = tf.keras.Sequential([\n",
        "                             base_layers,\n",
        "                             GlobalAveragePooling2D(),\n",
        "                             Dropout(0.2),\n",
        "                             Dense(1)\n",
        "])\n",
        "model.compile(optimizer=\"adam\", loss = tf.keras.losses.BinaryCrossentropy(from_logits=True), metrics =['accuracy'])"
      ],
      "execution_count": null,
      "outputs": []
    },
    {
      "cell_type": "markdown",
      "metadata": {
        "id": "u3gNItiyu5Ir",
        "colab_type": "text"
      },
      "source": [
        "Обучение нейронной сети"
      ]
    },
    {
      "cell_type": "code",
      "metadata": {
        "id": "DPSLUNGFt31j",
        "colab_type": "code",
        "colab": {
          "base_uri": "https://localhost:8080/",
          "height": 50
        },
        "outputId": "5fab5931-2b43-42dc-b935-9e032cba190e"
      },
      "source": [
        "model.fit(train_slices, epochs=1)"
      ],
      "execution_count": null,
      "outputs": [
        {
          "output_type": "stream",
          "text": [
            "1454/1454 [==============================] - 853s 587ms/step - loss: 0.0673 - accuracy: 0.9740\n"
          ],
          "name": "stdout"
        },
        {
          "output_type": "execute_result",
          "data": {
            "text/plain": [
              "<tensorflow.python.keras.callbacks.History at 0x7f7f709c6080>"
            ]
          },
          "metadata": {
            "tags": []
          },
          "execution_count": 75
        }
      ]
    },
    {
      "cell_type": "markdown",
      "metadata": {
        "id": "Xpe7-INZgzE2",
        "colab_type": "text"
      },
      "source": [
        "Загрузка пользовательской картинки, данный блок может отличаться в зависимости от среды, которую используете"
      ]
    },
    {
      "cell_type": "code",
      "metadata": {
        "id": "Fr15Z8qh3pNK",
        "colab_type": "code",
        "colab": {}
      },
      "source": [
        "files.upload()"
      ],
      "execution_count": null,
      "outputs": []
    },
    {
      "cell_type": "markdown",
      "metadata": {
        "id": "QvFNZUZAg9a8",
        "colab_type": "text"
      },
      "source": [
        "Блок обработки пользовательского изображения и его вывод "
      ]
    },
    {
      "cell_type": "code",
      "metadata": {
        "id": "ItRcZ-lH3xSo",
        "colab_type": "code",
        "colab": {}
      },
      "source": [
        "new_image = load_img('34.jpg')\n",
        "img_array = img_to_array(new_image)\n",
        "img_resized, _ = image_resizing(img_array, _)\n",
        "img_expanded = np.expand_dims(img_resized, axis = 0)\n",
        "prediction = model.predict(img_expanded)\n",
        "pred_label = \"CAT\" if prediction < 0.5 else \"DOG\"\n",
        "plt.figure()\n",
        "plt.imshow(new_image)\n",
        "plt.title(f'{pred_label} {prediction}')\n",
        "\n"
      ],
      "execution_count": null,
      "outputs": []
    }
  ]
}